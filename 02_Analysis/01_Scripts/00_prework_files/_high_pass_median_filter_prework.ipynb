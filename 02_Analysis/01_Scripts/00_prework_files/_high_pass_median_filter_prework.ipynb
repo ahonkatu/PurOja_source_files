{
 "cells": [
  {
   "cell_type": "markdown",
   "metadata": {},
   "source": [
    "### High pass median filter\n",
    "filtery, filterx means cells. If area needed is 4.5m you need to divide with the resolution size. The file was created with the resampled DEM-image of 0.5m resolution and with the original resolution of 2.0m to see the differnece in the results. Note: In the documentetion it's sadi the values used with filterx and filtery should be \"odd, positive integer values (e.g. 3, 5, 7, 9, etc.)\". \n",
    "\n",
    "Code: https://www.whiteboxgeo.com/manual/wbt_book/available_tools/image_processing_tools_filters.html#HighPassMedianFilter "
   ]
  },
  {
   "cell_type": "code",
   "execution_count": null,
   "metadata": {},
   "outputs": [],
   "source": [
    "import sys, pprint\n",
    "#pprint.pprint(sys.path)\n",
    "import whitebox\n",
    "import numpy as np\n",
    "import geopandas as gpd\n",
    "import os"
   ]
  },
  {
   "cell_type": "code",
   "execution_count": null,
   "metadata": {},
   "outputs": [],
   "source": [
    "# Initialize WhiteboxTools\n",
    "wbt = whitebox.WhiteboxTools()\n",
    "\n",
    "# Set the working directory\n",
    "wbt.work_dir = \"E:/Gradu/Resample_DEM_image/\"\n",
    "# Input file paths\n",
    "i = 'E:/Gradu/Resample_DEM_image/filled_dem.tif'\n",
    "\n",
    "#follow the work\n",
    "def default_callback(progress):\n",
    "    print(f\"Progress: {progress}%\")\n",
    "    \n",
    "output = 'E:/Gradu/HighPassMedianfilter/hpmf_0_5_cl.tif'\n",
    "\n",
    "wbt.high_pass_median_filter(\n",
    "    i, \n",
    "    output, \n",
    "    filterx=9, #with 0.5m resolution the value is 9\n",
    "    filtery=9, \n",
    "    sig_digits=2, \n",
    "    callback=default_callback\n",
    ")"
   ]
  },
  {
   "cell_type": "markdown",
   "metadata": {},
   "source": [
    "### Resampling the 2.5 result from 2m resolution into 0.5 m data\n",
    "This was just a test to see what happens to the resolution. With memory issues in proceduring this may help too."
   ]
  },
  {
   "cell_type": "code",
   "execution_count": 1,
   "metadata": {},
   "outputs": [
    {
     "name": "stderr",
     "output_type": "stream",
     "text": [
      "h:\\PurOja\\.venv\\Lib\\site-packages\\osgeo\\gdal.py:312: FutureWarning: Neither gdal.UseExceptions() nor gdal.DontUseExceptions() has been explicitly called. In GDAL 4.0, exceptions will be enabled by default.\n",
      "  warnings.warn(\n"
     ]
    },
    {
     "name": "stdout",
     "output_type": "stream",
     "text": [
      "Resampled H:/PurOja/01_Data/01_Raw/Halli_RawData_12_zones/HighPassMedianfilter/hpmf_dem_2_5.tif to H:/PurOja/01_Data/01_Raw/Halli_RawData_12_zones/HighPassMedianfilter/hpmf_resampled_to_0_5.tif with resolution 0.5x0.5.\n"
     ]
    }
   ],
   "source": [
    "from osgeo import gdal\n",
    "\n",
    "def resample_tiff(input_tiff, output_tiff, x_res, y_res):\n",
    "    dataset = gdal.Open(input_tiff)\n",
    "    if dataset is None:\n",
    "        raise FileNotFoundError(f\"Input file {input_tiff} not found or unable to open.\")\n",
    "    \n",
    "    # Perform the warp (resampling to specified resolution)\n",
    "    gdal.Warp(\n",
    "        output_tiff,\n",
    "        dataset,\n",
    "        xRes=x_res,\n",
    "        yRes=y_res,\n",
    "        resampleAlg='bilinear'\n",
    "    )\n",
    "\n",
    "    print(f\"Resampled {input_tiff} to {output_tiff} with resolution {x_res}x{y_res}.\")\n",
    "\n",
    "# Example usage\n",
    "input_tiff = 'H:/PurOja/01_Data/01_Raw/Halli_RawData_12_zones/HighPassMedianfilter/hpmf_dem_2_5.tif' #test directory that does not excist anymore\n",
    "output_tiff = 'H:/PurOja/01_Data/01_Raw/Halli_RawData_12_zones/HighPassMedianfilter/hpmf_resampled_to_0_5.tif'\n",
    "resample_tiff(input_tiff, output_tiff, 0.5, 0.5)"
   ]
  }
 ],
 "metadata": {
  "kernelspec": {
   "display_name": ".venv310",
   "language": "python",
   "name": "python3"
  },
  "language_info": {
   "codemirror_mode": {
    "name": "ipython",
    "version": 3
   },
   "file_extension": ".py",
   "mimetype": "text/x-python",
   "name": "python",
   "nbconvert_exporter": "python",
   "pygments_lexer": "ipython3",
   "version": "3.9.20"
  }
 },
 "nbformat": 4,
 "nbformat_minor": 2
}
