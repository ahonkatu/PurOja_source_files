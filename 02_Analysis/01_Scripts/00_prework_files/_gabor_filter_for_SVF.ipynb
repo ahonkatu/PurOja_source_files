{
 "cells": [
  {
   "cell_type": "markdown",
   "metadata": {},
   "source": [
    "### Gabor filter for SVF\n",
    "In this file there is gabor filter used for SVF file.\n",
    "Source: https://scikit-image.org/docs/stable/auto_examples/features_detection/plot_gabor.html\n",
    "\n",
    "And writing help from ChatGPT.\n",
    "\n",
    "There preimages, are from the wide area, bigger than the study area. In the end, images were clipped to study area zones (21 zones).\n",
    "\n",
    "Rasterio making sure your GEOTiff does not loose the projection. \n",
    "\n",
    "The code is ame with the _gabor_filter_for_HPMF.ipynb but made separate to be more clear and not to overwrite anything.\n",
    "\n",
    "From created layers, the layers 3, 7, 11 ja 15 was clipped and saved based on the study area. \n",
    "\n",
    "121 min"
   ]
  },
  {
   "cell_type": "code",
   "execution_count": 1,
   "metadata": {},
   "outputs": [],
   "source": [
    "import numpy as np\n",
    "from scipy import ndimage as ndi\n",
    "from skimage import io, img_as_float\n",
    "from skimage.filters import gabor_kernel, gaussian\n",
    "import os\n",
    "import rasterio\n",
    "from rasterio.transform import from_origin  # Importing from_origin for spatial transform"
   ]
  },
  {
   "cell_type": "code",
   "execution_count": 3,
   "metadata": {},
   "outputs": [
    {
     "name": "stdout",
     "output_type": "stream",
     "text": [
      "Gabor filtered images with EPSG:3067 saved to: E:/Gradu/Gabor/Filtered_Images/\n"
     ]
    }
   ],
   "source": [
    "# Paths\n",
    "input_path = \"E:/Gradu/SkyViewFactor/gabor/SVF_10m.tif\"\n",
    "output_dir = \"E:/Gradu/Gabor/Filtered_Images/\"\n",
    "os.makedirs(output_dir, exist_ok=True)\n",
    "\n",
    "# Load the High Pass Median Filter image\n",
    "image = img_as_float(io.imread(input_path))\n",
    "\n",
    "# Apply Gaussian filter to reduce noise\n",
    "image_gaussian = gaussian(image, sigma=1)  # Adjust sigma as needed for noise reduction #Don't use this if the image is already smoothened.\n",
    "\n",
    "# Define the projection and transform details (assuming top-left coordinates and pixel size are known)\n",
    "pixel_size = 0.5  # Each pixel represents 0.5m x 0.5m\n",
    "top_left_x, top_left_y = 368027, 6875970  # Adjust based on your image’s actual coordinates\n",
    "transform = from_origin(top_left_x, top_left_y, pixel_size, pixel_size)\n",
    "crs = \"EPSG:3067\"  # ETRS89 / TM35FIN projection\n",
    "\n",
    "# Prepare Gabor filter bank kernels\n",
    "kernels = []\n",
    "for theta in range(4):  # Four orientations\n",
    "    theta = theta / 4.0 * np.pi\n",
    "    for sigma in (1, 3):  # Different scales\n",
    "        for frequency in (0.05, 0.25):  # Frequencies for edge/line detection\n",
    "            kernel = np.real(gabor_kernel(frequency, theta=theta, sigma_x=sigma, sigma_y=sigma))\n",
    "            kernels.append(kernel)\n",
    "\n",
    "# Apply each Gabor filter to the Gaussian-filtered image and save the output with EPSG projection\n",
    "for i, kernel in enumerate(kernels):\n",
    "    # Convolve the image with the Gabor kernel\n",
    "    filtered_image = ndi.convolve(image_gaussian, kernel, mode='wrap')\n",
    "\n",
    "    # Normalize filtered image for saving as uint8 (if applicable)\n",
    "    filtered_image_normalized = (filtered_image - np.min(filtered_image)) / (np.max(filtered_image) - np.min(filtered_image))  # Normalize to 0-1\n",
    "    filtered_image_uint8 = (filtered_image_normalized * 255).astype(np.uint8)  # Convert to uint8\n",
    "\n",
    "    # Save the filtered image with rasterio, including transform and CRS\n",
    "    output_path = os.path.join(output_dir, f\"SVFgabor_filtered_{i}.tif\")\n",
    "    with rasterio.open(\n",
    "        output_path,\n",
    "        'w',\n",
    "        driver='GTiff',\n",
    "        height=filtered_image.shape[0],\n",
    "        width=filtered_image.shape[1],\n",
    "        count=1,\n",
    "        dtype='uint8',  # Save as uint8 to reduce size\n",
    "        crs=crs,\n",
    "        transform=transform,\n",
    "        compress='lzw'  # Apply compression\n",
    "    ) as dst:\n",
    "        dst.write(filtered_image_uint8, 1)\n",
    "\n",
    "print(\"Gabor filtered images with EPSG:3067 saved to:\", output_dir)"
   ]
  }
 ],
 "metadata": {
  "kernelspec": {
   "display_name": ".venv310",
   "language": "python",
   "name": "python3"
  },
  "language_info": {
   "codemirror_mode": {
    "name": "ipython",
    "version": 3
   },
   "file_extension": ".py",
   "mimetype": "text/x-python",
   "name": "python",
   "nbconvert_exporter": "python",
   "pygments_lexer": "ipython3",
   "version": "3.9.20"
  }
 },
 "nbformat": 4,
 "nbformat_minor": 2
}
