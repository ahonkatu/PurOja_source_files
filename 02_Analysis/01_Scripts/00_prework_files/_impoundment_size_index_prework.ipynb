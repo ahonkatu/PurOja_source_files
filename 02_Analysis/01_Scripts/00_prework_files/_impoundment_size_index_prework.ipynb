{
 "cells": [
  {
   "cell_type": "code",
   "execution_count": 1,
   "metadata": {},
   "outputs": [],
   "source": [
    "#import sys\n",
    "#sys.path.append(r'C:\\Users\\OMISTAJA\\AppData\\Local\\Packages\\PythonSoftwareFoundation.Python.3.11_qbz5n2kfra8p0\\LocalCache\\local-packages\\Python311\\site-packages')\n",
    "\n",
    "import whitebox\n",
    "import numpy as np\n",
    "import geopandas as gpd\n",
    "import os"
   ]
  },
  {
   "cell_type": "markdown",
   "metadata": {},
   "source": [
    "#### Download Whitebox Tools\n",
    "This tool needs absolute paths to files to work. \n",
    "Code: https://www.whiteboxgeo.com/manual/wbt_book/available_tools/hydrological_analysis.html#ImpoundmentSizeIndex \n",
    "\n",
    "Tried first with the resolution of 2m x 2m, worked well. Resolution 0.5 x 0.5 takes too much memory, this was made in the end with 1m resolution (last code in here). "
   ]
  },
  {
   "cell_type": "markdown",
   "metadata": {},
   "source": [
    "### 1m resolution\n",
    "This Impoudment size index was difficult to make for the small resolution data. Every time teh memory was a limiting feature. In the end I decided to make a code driving the area in pieces. "
   ]
  },
  {
   "cell_type": "code",
   "execution_count": 4,
   "metadata": {},
   "outputs": [],
   "source": [
    "#import sys\n",
    "#sys.path.append(r'C:\\Users\\OMISTAJA\\AppData\\Local\\Packages\\PythonSoftwareFoundation.Python.3.11_qbz5n2kfra8p0\\LocalCache\\local-packages\\Python311\\site-packages')\n",
    "\n",
    "# Initialize WhiteboxTools\n",
    "wbt = whitebox.WhiteboxTools()\n",
    "\n",
    "# Set the working directory\n",
    "wbt.work_dir = \"E:/Gradu/ImpoudmentSizeIndex/\"\n",
    "# Input file paths\n",
    "dem = 'E:/Gradu/ImpoudmentSizeIndex/ISI_DEM_0_5_nn.tif'\n",
    "reservoirs_shapefile = 'E:/Gradu/ImpoudmentSizeIndex/CA.shp'"
   ]
  },
  {
   "cell_type": "code",
   "execution_count": null,
   "metadata": {},
   "outputs": [],
   "source": [
    "# Optional callback function for monitoring progress\n",
    "def default_callback(progress):\n",
    "    print(f\"Progress: {progress}%\")\n",
    "\n",
    "#Output file paths, using external memory to save space\n",
    "out_mean=\"E:/Gradu/ImpoudmentSizeIndex/ISI/mean_index-test.tif\" \n",
    "out_max=\"E:/Gradu/ImpoudmentSizeIndex/ISI/max_index-test.tif\"\n",
    "out_volume=\"E:/Gradu/ImpoudmentSizeIndex/ISI/volume-test.tif\" \n",
    "out_area=\"E:/Gradu/ImpoudmentSizeIndex/ISI/area-test.tif\"\n",
    "out_dam_height=\"E:/Gradu/ImpoudmentSizeIndex/ISI/dam_height-test.tif\"\n",
    "\n",
    "# Run the function\n",
    "wbt.impoundment_size_index(\n",
    "    dem=dem, \n",
    "    damlength=9, \n",
    "    out_mean=out_mean, \n",
    "    out_max=out_max, \n",
    "    out_volume=out_volume, \n",
    "    out_area=out_area, \n",
    "    out_dam_height=out_dam_height, \n",
    "    callback=default_callback\n",
    ")"
   ]
  },
  {
   "cell_type": "markdown",
   "metadata": {},
   "source": [
    "### Using the 1m (last code here) or 2m resolution to increase resolution to 0.5\n",
    "gdalwarp -tr 0.5 0.5 -r bilinear dam_height_2m.tif dam_height_0_5m.tif\n",
    "#use this line in correct directory, or dot his:"
   ]
  },
  {
   "cell_type": "code",
   "execution_count": 33,
   "metadata": {},
   "outputs": [],
   "source": [
    "import os\n",
    "from osgeo import gdal"
   ]
  },
  {
   "cell_type": "code",
   "execution_count": 34,
   "metadata": {},
   "outputs": [
    {
     "name": "stdout",
     "output_type": "stream",
     "text": [
      "3080400\n"
     ]
    }
   ],
   "source": [
    "from osgeo import gdal\n",
    "print(gdal.VersionInfo())"
   ]
  },
  {
   "cell_type": "markdown",
   "metadata": {},
   "source": [
    "#### Check functions osgeo - skip, problem solving\n",
    "Checking out error about not having gdal..."
   ]
  },
  {
   "cell_type": "code",
   "execution_count": 36,
   "metadata": {},
   "outputs": [
    {
     "name": "stdout",
     "output_type": "stream",
     "text": [
      "Driver: VRT, Virtual Raster\n",
      "Driver: DERIVED, Derived datasets using VRT pixel functions\n",
      "Driver: GTiff, GeoTIFF\n",
      "Driver: COG, Cloud optimized GeoTIFF generator\n",
      "Driver: NITF, National Imagery Transmission Format\n",
      "Driver: RPFTOC, Raster Product Format TOC format\n",
      "Driver: ECRGTOC, ECRG TOC format\n",
      "Driver: HFA, Erdas Imagine Images (.img)\n",
      "Driver: SAR_CEOS, CEOS SAR Image\n",
      "Driver: CEOS, CEOS Image\n",
      "Driver: JAXAPALSAR, JAXA PALSAR Product Reader (Level 1.1/1.5)\n",
      "Driver: GFF, Ground-based SAR Applications Testbed File Format (.gff)\n",
      "Driver: ELAS, ELAS\n",
      "Driver: ESRIC, Esri Compact Cache\n",
      "Driver: AIG, Arc/Info Binary Grid\n",
      "Driver: AAIGrid, Arc/Info ASCII Grid\n",
      "Driver: GRASSASCIIGrid, GRASS ASCII Grid\n",
      "Driver: ISG, International Service for the Geoid\n",
      "Driver: SDTS, SDTS Raster\n",
      "Driver: DTED, DTED Elevation Raster\n",
      "Driver: PNG, Portable Network Graphics\n",
      "Driver: JPEG, JPEG JFIF\n",
      "Driver: MEM, In Memory Raster\n",
      "Driver: JDEM, Japanese DEM (.mem)\n",
      "Driver: GIF, Graphics Interchange Format (.gif)\n",
      "Driver: BIGGIF, Graphics Interchange Format (.gif)\n",
      "Driver: ESAT, Envisat Image Format\n",
      "Driver: FITS, Flexible Image Transport System\n",
      "Driver: BSB, Maptech BSB Nautical Charts\n",
      "Driver: XPM, X11 PixMap Format\n",
      "Driver: BMP, MS Windows Device Independent Bitmap\n",
      "Driver: DIMAP, SPOT DIMAP\n",
      "Driver: AirSAR, AirSAR Polarimetric Image\n",
      "Driver: RS2, RadarSat 2 XML Product\n",
      "Driver: SAFE, Sentinel-1 SAR SAFE Product\n",
      "Driver: PCIDSK, PCIDSK Database File\n",
      "Driver: PCRaster, PCRaster Raster File\n",
      "Driver: ILWIS, ILWIS Raster Map\n",
      "Driver: SGI, SGI Image File Format 1.0\n",
      "Driver: SRTMHGT, SRTMHGT File Format\n",
      "Driver: Leveller, Leveller heightfield\n",
      "Driver: Terragen, Terragen heightfield\n",
      "Driver: netCDF, Network Common Data Format\n",
      "Driver: HDF4, Hierarchical Data Format Release 4\n",
      "Driver: HDF4Image, HDF4 Dataset\n",
      "Driver: ISIS3, USGS Astrogeology ISIS cube (Version 3)\n",
      "Driver: ISIS2, USGS Astrogeology ISIS cube (Version 2)\n",
      "Driver: PDS, NASA Planetary Data System\n",
      "Driver: PDS4, NASA Planetary Data System 4\n",
      "Driver: VICAR, MIPL VICAR file\n",
      "Driver: TIL, EarthWatch .TIL\n",
      "Driver: ERS, ERMapper .ers Labelled\n",
      "Driver: JP2OpenJPEG, JPEG-2000 driver based on OpenJPEG library\n",
      "Driver: L1B, NOAA Polar Orbiter Level 1b Data Set\n",
      "Driver: FIT, FIT Image\n",
      "Driver: GRIB, GRIdded Binary (.grb, .grb2)\n",
      "Driver: RMF, Raster Matrix Format\n",
      "Driver: WCS, OGC Web Coverage Service\n",
      "Driver: WMS, OGC Web Map Service\n",
      "Driver: MSGN, EUMETSAT Archive native (.nat)\n",
      "Driver: RST, Idrisi Raster A.1\n",
      "Driver: GSAG, Golden Software ASCII Grid (.grd)\n",
      "Driver: GSBG, Golden Software Binary Grid (.grd)\n",
      "Driver: GS7BG, Golden Software 7 Binary Grid (.grd)\n",
      "Driver: COSAR, COSAR Annotated Binary Matrix (TerraSAR-X)\n",
      "Driver: TSX, TerraSAR-X Product\n",
      "Driver: COASP, DRDC COASP SAR Processor Raster\n",
      "Driver: R, R Object Data Store\n",
      "Driver: MAP, OziExplorer .MAP\n",
      "Driver: KMLSUPEROVERLAY, Kml Super Overlay\n",
      "Driver: WEBP, WEBP\n",
      "Driver: PDF, Geospatial PDF\n",
      "Driver: Rasterlite, Rasterlite\n",
      "Driver: MBTiles, MBTiles\n",
      "Driver: PLMOSAIC, Planet Labs Mosaics API\n",
      "Driver: CALS, CALS (Type 1)\n",
      "Driver: WMTS, OGC Web Map Tile Service\n",
      "Driver: SENTINEL2, Sentinel 2\n",
      "Driver: MRF, Meta Raster Format\n",
      "Driver: PNM, Portable Pixmap Format (netpbm)\n",
      "Driver: DOQ1, USGS DOQ (Old Style)\n",
      "Driver: DOQ2, USGS DOQ (New Style)\n",
      "Driver: PAux, PCI .aux Labelled\n",
      "Driver: MFF, Vexcel MFF Raster\n",
      "Driver: MFF2, Vexcel MFF2 (HKV) Raster\n",
      "Driver: GSC, GSC Geogrid\n",
      "Driver: FAST, EOSAT FAST Format\n",
      "Driver: BT, VTP .bt (Binary Terrain) 1.3 Format\n",
      "Driver: LAN, Erdas .LAN/.GIS\n",
      "Driver: CPG, Convair PolGASP\n",
      "Driver: NDF, NLAPS Data Format\n",
      "Driver: EIR, Erdas Imagine Raw\n",
      "Driver: DIPEx, DIPEx\n",
      "Driver: LCP, FARSITE v.4 Landscape File (.lcp)\n",
      "Driver: GTX, NOAA Vertical Datum .GTX\n",
      "Driver: LOSLAS, NADCON .los/.las Datum Grid Shift\n",
      "Driver: NTv2, NTv2 Datum Grid Shift\n",
      "Driver: CTable2, CTable2 Datum Grid Shift\n",
      "Driver: ACE2, ACE2\n",
      "Driver: SNODAS, Snow Data Assimilation System\n",
      "Driver: KRO, KOLOR Raw\n",
      "Driver: ROI_PAC, ROI_PAC raster\n",
      "Driver: RRASTER, R Raster\n",
      "Driver: BYN, Natural Resources Canada's Geoid\n",
      "Driver: NOAA_B, NOAA GEOCON/NADCON5 .b format\n",
      "Driver: NSIDCbin, NSIDC Sea Ice Concentrations binary (.bin)\n",
      "Driver: ARG, Azavea Raster Grid format\n",
      "Driver: RIK, Swedish Grid RIK (.rik)\n",
      "Driver: USGSDEM, USGS Optional ASCII DEM (and CDED)\n",
      "Driver: GXF, GeoSoft Grid Exchange Format\n",
      "Driver: BAG, Bathymetry Attributed Grid\n",
      "Driver: S102, S-102 Bathymetric Surface Product\n",
      "Driver: HDF5, Hierarchical Data Format Release 5\n",
      "Driver: HDF5Image, HDF5 Dataset\n",
      "Driver: NWT_GRD, Northwood Numeric Grid Format .grd/.tab\n",
      "Driver: NWT_GRC, Northwood Classified Grid Format .grc/.tab\n",
      "Driver: ADRG, ARC Digitized Raster Graphics\n",
      "Driver: SRP, Standard Raster Product (ASRP/USRP)\n",
      "Driver: BLX, Magellan topo (.blx)\n",
      "Driver: PostGISRaster, PostGIS Raster driver\n",
      "Driver: SAGA, SAGA GIS Binary Grid (.sdat, .sg-grd-z)\n",
      "Driver: XYZ, ASCII Gridded XYZ\n",
      "Driver: HF2, HF2/HFZ heightfield raster\n",
      "Driver: OZI, OziExplorer Image File\n",
      "Driver: CTG, USGS LULC Composite Theme Grid\n",
      "Driver: ZMap, ZMap Plus Grid\n",
      "Driver: NGSGEOID, NOAA NGS Geoid Height Grids\n",
      "Driver: IRIS, IRIS data (.PPI, .CAPPi etc)\n",
      "Driver: PRF, Racurs PHOTOMOD PRF\n",
      "Driver: EEDAI, Earth Engine Data API Image\n",
      "Driver: EEDA, Earth Engine Data API\n",
      "Driver: DAAS, Airbus DS Intelligence Data As A Service driver\n",
      "Driver: SIGDEM, Scaled Integer Gridded DEM .sigdem\n",
      "Driver: EXR, Extended Dynamic Range Image File Format\n",
      "Driver: TGA, TGA/TARGA Image File Format\n",
      "Driver: OGCAPI, OGCAPI\n",
      "Driver: STACTA, Spatio-Temporal Asset Catalog Tiled Assets\n",
      "Driver: STACIT, Spatio-Temporal Asset Catalog Items\n",
      "Driver: JPEGXL, JPEG-XL\n",
      "Driver: GNMFile, Geographic Network generic file based model\n",
      "Driver: GNMDatabase, Geographic Network generic DB based model\n",
      "Driver: ESRI Shapefile, ESRI Shapefile\n",
      "Driver: MapInfo File, MapInfo File\n",
      "Driver: UK .NTF, UK .NTF\n",
      "Driver: LVBAG, Kadaster LV BAG Extract 2.0\n",
      "Driver: OGR_SDTS, SDTS\n",
      "Driver: S57, IHO S-57 (ENC)\n",
      "Driver: DGN, Microstation DGN\n",
      "Driver: OGR_VRT, VRT - Virtual Datasource\n",
      "Driver: Memory, Memory\n",
      "Driver: CSV, Comma Separated Value (.csv)\n",
      "Driver: GML, Geography Markup Language (GML)\n",
      "Driver: GPX, GPX\n",
      "Driver: LIBKML, Keyhole Markup Language (LIBKML)\n",
      "Driver: KML, Keyhole Markup Language (KML)\n",
      "Driver: GeoJSON, GeoJSON\n",
      "Driver: GeoJSONSeq, GeoJSON Sequence\n",
      "Driver: ESRIJSON, ESRIJSON\n",
      "Driver: TopoJSON, TopoJSON\n",
      "Driver: OGR_GMT, GMT ASCII Vectors (.gmt)\n",
      "Driver: GPKG, GeoPackage\n",
      "Driver: SQLite, SQLite / Spatialite\n",
      "Driver: ODBC, \n",
      "Driver: WAsP, WAsP .map format\n",
      "Driver: PGeo, ESRI Personal GeoDatabase\n",
      "Driver: MSSQLSpatial, Microsoft SQL Server Spatial Database\n",
      "Driver: PostgreSQL, PostgreSQL/PostGIS\n",
      "Driver: OpenFileGDB, ESRI FileGDB\n",
      "Driver: DXF, AutoCAD DXF\n",
      "Driver: CAD, AutoCAD Driver\n",
      "Driver: FlatGeobuf, FlatGeobuf\n",
      "Driver: Geoconcept, Geoconcept\n",
      "Driver: GeoRSS, GeoRSS\n",
      "Driver: VFK, Czech Cadastral Exchange Data Format\n",
      "Driver: PGDUMP, PostgreSQL SQL dump\n",
      "Driver: OSM, OpenStreetMap XML and PBF\n",
      "Driver: GPSBabel, GPSBabel\n",
      "Driver: OGR_PDS, Planetary Data Systems TABLE\n",
      "Driver: WFS, OGC WFS (Web Feature Service)\n",
      "Driver: OAPIF, OGC API - Features\n",
      "Driver: EDIGEO, French EDIGEO exchange format\n",
      "Driver: SVG, Scalable Vector Graphics\n",
      "Driver: Idrisi, Idrisi Vector (.vct)\n",
      "Driver: XLS, MS Excel format\n",
      "Driver: ODS, Open Document/ LibreOffice / OpenOffice Spreadsheet \n",
      "Driver: XLSX, MS Office Open XML spreadsheet\n",
      "Driver: Elasticsearch, Elastic Search\n",
      "Driver: Carto, Carto\n",
      "Driver: AmigoCloud, AmigoCloud\n",
      "Driver: SXF, Storage and eXchange Format\n",
      "Driver: Selafin, Selafin\n",
      "Driver: JML, OpenJUMP JML\n",
      "Driver: PLSCENES, Planet Labs Scenes API\n",
      "Driver: CSW, OGC CSW (Catalog  Service for the Web)\n",
      "Driver: VDV, VDV-451/VDV-452/INTREST Data Format\n",
      "Driver: MVT, Mapbox Vector Tiles\n",
      "Driver: NGW, NextGIS Web\n",
      "Driver: MapML, MapML\n",
      "Driver: GTFS, General Transit Feed Specification\n",
      "Driver: PMTiles, ProtoMap Tiles\n",
      "Driver: JSONFG, OGC Features and Geometries JSON\n",
      "Driver: TIGER, U.S. Census TIGER/Line\n",
      "Driver: AVCBin, Arc/Info Binary Coverage\n",
      "Driver: AVCE00, Arc/Info E00 (ASCII) Coverage\n",
      "Driver: GenBin, Generic Binary (.hdr Labelled)\n",
      "Driver: ENVI, ENVI .hdr Labelled\n",
      "Driver: EHdr, ESRI .hdr Labelled\n",
      "Driver: ISCE, ISCE raster\n",
      "Driver: Zarr, Zarr\n",
      "Driver: HTTP, HTTP Fetching Wrapper\n"
     ]
    }
   ],
   "source": [
    "from osgeo import gdal\n",
    "\n",
    "def test_gdal_functions():\n",
    "    # Print available GDAL drivers\n",
    "    drivers = gdal.GetDriverCount()\n",
    "    for i in range(drivers):\n",
    "        driver = gdal.GetDriver(i)\n",
    "        print(f\"Driver: {driver.ShortName}, {driver.LongName}\")\n",
    "\n",
    "test_gdal_functions()"
   ]
  },
  {
   "cell_type": "markdown",
   "metadata": {},
   "source": [
    "#### Using 2m resolution to increase to 0.5m resolution\n",
    "My tests to make ImpoudmentSizeIndex from 0.5m resolution data failed. This is increasing resolution from the 2m resolution.,"
   ]
  },
  {
   "cell_type": "code",
   "execution_count": 38,
   "metadata": {},
   "outputs": [
    {
     "name": "stdout",
     "output_type": "stream",
     "text": [
      "Resampled H:/PurOja/01_Data/01_Raw/Halli_RawData_12_zones/ImpoudmentSizeIndex/dam_height.tif to H:/PurOja/01_Data/01_Raw/Halli_RawData_12_zones/ImpoudmentSizeIndex/dam_height_0_5m.tif with resolution 0.5x0.5.\n"
     ]
    }
   ],
   "source": [
    "from osgeo import gdal\n",
    "\n",
    "def resample_tiff(input_tiff, output_tiff, x_res, y_res):\n",
    "    dataset = gdal.Open(input_tiff)\n",
    "    if dataset is None:\n",
    "        raise FileNotFoundError(f\"Input file {input_tiff} not found or unable to open.\")\n",
    "    \n",
    "    # Perform the warp (resampling to specified resolution)\n",
    "    gdal.Warp(\n",
    "        output_tiff,\n",
    "        dataset,\n",
    "        xRes=x_res,\n",
    "        yRes=y_res,\n",
    "        resampleAlg='bilinear'\n",
    "    )\n",
    "\n",
    "    print(f\"Resampled {input_tiff} to {output_tiff} with resolution {x_res}x{y_res}.\")\n",
    "\n",
    "# Example usage\n",
    "input_tiff = 'H:/PurOja/01_Data/01_Raw/Halli_RawData_12_zones/ImpoudmentSizeIndex/dam_height.tif'\n",
    "output_tiff = 'H:/PurOja/01_Data/01_Raw/Halli_RawData_12_zones/ImpoudmentSizeIndex/dam_height_0_5m.tif'\n",
    "resample_tiff(input_tiff, output_tiff, 0.5, 0.5)"
   ]
  },
  {
   "cell_type": "markdown",
   "metadata": {},
   "source": [
    "### Finding locations with python"
   ]
  },
  {
   "cell_type": "code",
   "execution_count": 24,
   "metadata": {},
   "outputs": [
    {
     "name": "stdout",
     "output_type": "stream",
     "text": [
      "h:\\PurOja\\.venv\\Lib\\site-packages\\osgeo\\gdal.py\n"
     ]
    }
   ],
   "source": [
    "from osgeo import gdal\n",
    "print(gdal.__file__)"
   ]
  },
  {
   "cell_type": "code",
   "execution_count": 25,
   "metadata": {},
   "outputs": [
    {
     "name": "stdout",
     "output_type": "stream",
     "text": [
      "GDAL version: 3.8.4\n",
      "GDAL installation path: h:\\PurOja\\.venv\\Lib\\site-packages\\osgeo\\gdal.py\n"
     ]
    }
   ],
   "source": [
    "import os\n",
    "from osgeo import gdal\n",
    "\n",
    "print(\"GDAL version:\", gdal.__version__)\n",
    "print(\"GDAL installation path:\", gdal.__file__)"
   ]
  },
  {
   "cell_type": "markdown",
   "metadata": {},
   "source": [
    "### Merging files as vrt\n",
    "Example, if you clipped the images to smaller ones while processing, this will combine them as virtual image. "
   ]
  },
  {
   "cell_type": "code",
   "execution_count": 12,
   "metadata": {},
   "outputs": [
    {
     "name": "stdout",
     "output_type": "stream",
     "text": [
      "Created VRT for area: E:/Gradu/ImpoudmentSizeIndex/splitted_vector2/merged/area_merged_output.vrt\n",
      "Created VRT for max: E:/Gradu/ImpoudmentSizeIndex/splitted_vector2/merged/max_merged_output.vrt\n",
      "Created VRT for mean: E:/Gradu/ImpoudmentSizeIndex/splitted_vector2/merged/mean_merged_output.vrt\n",
      "Created VRT for dam_height: E:/Gradu/ImpoudmentSizeIndex/splitted_vector2/merged/dam_height_merged_output.vrt\n",
      "Created VRT for volume: E:/Gradu/ImpoudmentSizeIndex/splitted_vector2/merged/volume_merged_output.vrt\n"
     ]
    }
   ],
   "source": [
    "import os\n",
    "from osgeo import gdal\n",
    "\n",
    "def generate_file_list(path, pattern, output_file):\n",
    "    files = [os.path.join(path, file) for file in os.listdir(path) if pattern in file]\n",
    "    with open(output_file, 'w') as f:\n",
    "        for file in files:\n",
    "            f.write(f\"{file}\\n\")\n",
    "\n",
    "def create_vrt_for_files(file_list, vrt_output):\n",
    "    # Open file list\n",
    "    with open(file_list, 'r') as f:\n",
    "        file_paths = [line.strip() for line in f]\n",
    "    \n",
    "    # Create VRT\n",
    "    vrt_options = gdal.BuildVRTOptions(resampleAlg='bilinear')\n",
    "    gdal.BuildVRT(vrt_output, file_paths, options=vrt_options)\n",
    "\n",
    "def main():\n",
    "    base_path = \"E:/Gradu/ImpoudmentSizeIndex/splitted_vector2/output/\"\n",
    "    output_dir = \"E:/Gradu/ImpoudmentSizeIndex/splitted_vector2/merged/\"\n",
    "    patterns = {\n",
    "        \"area\": \"area_filled_dem_resampled_Halli_\",\n",
    "        \"max\": \"max_filled_dem_resampled_Halli_\",\n",
    "        \"mean\": \"mean_filled_dem_resampled_Halli_\",\n",
    "        \"dam_height\": \"dam_height_filled_dem_resampled_Halli_\",\n",
    "        \"volume\": \"volume_filled_dem_resampled_Halli_\"\n",
    "    }\n",
    "\n",
    "    if not os.path.exists(output_dir):\n",
    "        os.makedirs(output_dir)\n",
    "\n",
    "    for key, pattern in patterns.items():\n",
    "        file_list = f\"{key}_file_list.txt\"\n",
    "        vrt_output = os.path.join(output_dir, f\"{key}_merged_output.vrt\")\n",
    "        \n",
    "        generate_file_list(base_path, pattern, file_list)\n",
    "        create_vrt_for_files(file_list, vrt_output)\n",
    "        print(f\"Created VRT for {key}: {vrt_output}\")\n",
    "\n",
    "if __name__ == \"__main__\":\n",
    "    main()"
   ]
  },
  {
   "cell_type": "markdown",
   "metadata": {},
   "source": [
    "### Creating a file if one is missing\n",
    "Example, many times it's about misspelling something, chcek the names and the paths. Copy past is useful when to get the names and the locations right every time."
   ]
  },
  {
   "cell_type": "code",
   "execution_count": 11,
   "metadata": {},
   "outputs": [
    {
     "name": "stdout",
     "output_type": "stream",
     "text": [
      "No files found with the specified pattern.\n"
     ]
    }
   ],
   "source": [
    "from osgeo import gdal\n",
    "\n",
    "def create_vrt_for_dam_height(base_path, output_vrt):\n",
    "    # List of TIFF files for 'dam_height' pattern\n",
    "    pattern = \"dam_height_merged_output_\"\n",
    "    file_list = [os.path.join(base_path, file) for file in os.listdir(base_path) if pattern in file]\n",
    "\n",
    "    if not file_list:\n",
    "        print(\"No files found with the specified pattern.\")\n",
    "        return\n",
    "\n",
    "    # Create VRT\n",
    "    vrt_options = gdal.BuildVRTOptions(resampleAlg='bilinear')\n",
    "    gdal.BuildVRT(output_vrt, file_list, options=vrt_options)\n",
    "    print(f\"Created VRT for dam_height: {output_vrt}\")\n",
    "\n",
    "# Specify the base path and output VRT file path\n",
    "base_path = \"E:/Gradu/ImpoudmentSizeIndex/splitted_vector2/output/\"\n",
    "output_vrt = \"E:/Gradu/ImpoudmentSizeIndex/splitted_vector2/merged/dam_height_merged_output.vrt\"\n",
    "\n",
    "create_vrt_for_dam_height(base_path, output_vrt)"
   ]
  },
  {
   "cell_type": "markdown",
   "metadata": {},
   "source": [
    "### Making 1m resolution"
   ]
  },
  {
   "cell_type": "code",
   "execution_count": 18,
   "metadata": {},
   "outputs": [
    {
     "name": "stdout",
     "output_type": "stream",
     "text": [
      "gdalwarp executed successfully.\n"
     ]
    }
   ],
   "source": [
    "import subprocess\n",
    "\n",
    "# Define input and output file paths\n",
    "input_file = \"E:/Gradu/ImpoudmentSizeIndex/DEM_0_5m_nn.tif\"\n",
    "output_file = \"E:/Gradu/ImpoudmentSizeIndex/DEM_1m_nn.tif\"\n",
    "\n",
    "# Define the gdalwarp command and its parameters\n",
    "gdalwarp_command = [\n",
    "    \"gdalwarp\",          # The command\n",
    "    \"-tr\", \"1.0\", \"1.0\",  # Target resolution\n",
    "    \"-r\", \"bilinear\",     # Resampling method\n",
    "    input_file,          # Input raster file\n",
    "    output_file          # Output raster file\n",
    "]\n",
    "\n",
    "try:\n",
    "    # Run the gdalwarp command\n",
    "    subprocess.run(gdalwarp_command, check=True)\n",
    "    print(\"gdalwarp executed successfully.\")\n",
    "except subprocess.CalledProcessError as e:\n",
    "    print(f\"An error occurred: {e}\")\n",
    "except FileNotFoundError:\n",
    "    print(\"gdalwarp not found. Make sure GDAL is installed and in your PATH.\")"
   ]
  }
 ],
 "metadata": {
  "kernelspec": {
   "display_name": ".venv310",
   "language": "python",
   "name": "python3"
  },
  "language_info": {
   "codemirror_mode": {
    "name": "ipython",
    "version": 3
   },
   "file_extension": ".py",
   "mimetype": "text/x-python",
   "name": "python",
   "nbconvert_exporter": "python",
   "pygments_lexer": "ipython3",
   "version": "3.9.20"
  }
 },
 "nbformat": 4,
 "nbformat_minor": 2
}
