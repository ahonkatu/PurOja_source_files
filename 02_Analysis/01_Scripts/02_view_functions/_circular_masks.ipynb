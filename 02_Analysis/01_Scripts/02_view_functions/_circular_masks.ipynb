{
 "cells": [
  {
   "cell_type": "markdown",
   "metadata": {},
   "source": [
    "### Circular masks\n",
    "\n",
    "In here you can test how the size affects, for example."
   ]
  },
  {
   "cell_type": "code",
   "execution_count": 3,
   "metadata": {},
   "outputs": [],
   "source": [
    "import numpy as np\n",
    "from numba import jit"
   ]
  },
  {
   "cell_type": "code",
   "execution_count": 9,
   "metadata": {},
   "outputs": [
    {
     "name": "stdout",
     "output_type": "stream",
     "text": [
      "[[0 0 0 0 0 1 0 0 0 0 0]\n",
      " [0 0 1 1 1 1 1 1 1 0 0]\n",
      " [0 1 1 1 1 1 1 1 1 1 0]\n",
      " [0 1 1 1 1 1 1 1 1 1 0]\n",
      " [0 1 1 1 1 1 1 1 1 1 0]\n",
      " [1 1 1 1 1 0 1 1 1 1 1]\n",
      " [0 1 1 1 1 1 1 1 1 1 0]\n",
      " [0 1 1 1 1 1 1 1 1 1 0]\n",
      " [0 1 1 1 1 1 1 1 1 1 0]\n",
      " [0 0 1 1 1 1 1 1 1 0 0]\n",
      " [0 0 0 0 0 1 0 0 0 0 0]]\n"
     ]
    }
   ],
   "source": [
    "@jit(nopython=True)\n",
    "def create_circular_mask(radius):\n",
    "    \"\"\"\n",
    "    Creates a fast and efficient circular mask compatible with Dask and large-scale operations.\n",
    "    \"\"\"\n",
    "    size = 2 * radius + 1\n",
    "    kernel = np.zeros((size, size), dtype=np.uint8)\n",
    "    for y in range(size):\n",
    "        for x in range(size):\n",
    "            if (x - radius) ** 2 + (y - radius) ** 2 <= radius ** 2:\n",
    "                kernel[y, x] = 1\n",
    "    kernel[radius, radius] = 0  # Exclude the center\n",
    "    return kernel\n",
    "\n",
    "# Example usage:\n",
    "radius = 5\n",
    "circular_mask = create_circular_mask(radius)\n",
    "print(circular_mask)"
   ]
  }
 ],
 "metadata": {
  "kernelspec": {
   "display_name": ".venv310",
   "language": "python",
   "name": "python3"
  },
  "language_info": {
   "codemirror_mode": {
    "name": "ipython",
    "version": 3
   },
   "file_extension": ".py",
   "mimetype": "text/x-python",
   "name": "python",
   "nbconvert_exporter": "python",
   "pygments_lexer": "ipython3",
   "version": "3.9.20"
  }
 },
 "nbformat": 4,
 "nbformat_minor": 2
}
