{
 "cells": [
  {
   "cell_type": "markdown",
   "metadata": {},
   "source": [
    "### Experiment array with zarr\n",
    "02_0_Resampled data was in the unde as zarr files."
   ]
  },
  {
   "cell_type": "code",
   "execution_count": 5,
   "metadata": {},
   "outputs": [
    {
     "name": "stdout",
     "output_type": "stream",
     "text": [
      "Available keys in zones_data_2.zarr: ['zone_1', 'zone_2', 'zone_3']\n"
     ]
    }
   ],
   "source": [
    "import zarr\n",
    "\n",
    "# Open the Zarr files\n",
    "zones_data_2 = zarr.open(\"zones_data_2.zarr\", mode=\"r\")\n",
    "\n",
    "# Print available keys in zones_data_2.zarr\n",
    "keys = list(zones_data_2.group_keys())\n",
    "print(\"Available keys in zones_data_2.zarr:\", keys)\n",
    "\n"
   ]
  },
  {
   "cell_type": "code",
   "execution_count": null,
   "metadata": {},
   "outputs": [
    {
     "ename": "AttributeError",
     "evalue": "module 'zarr' has no attribute 'concat'",
     "output_type": "error",
     "traceback": [
      "\u001b[1;31m---------------------------------------------------------------------------\u001b[0m",
      "\u001b[1;31mAttributeError\u001b[0m                            Traceback (most recent call last)",
      "Cell \u001b[1;32mIn[4], line 18\u001b[0m\n\u001b[0;32m     14\u001b[0m zone_3_resampled \u001b[38;5;241m=\u001b[39m zones_data_2[\u001b[38;5;124m'\u001b[39m\u001b[38;5;124mzone_3\u001b[39m\u001b[38;5;124m'\u001b[39m]  \u001b[38;5;66;03m# Resampled data for zone_3 (as Zarr array)\u001b[39;00m\n\u001b[0;32m     16\u001b[0m \u001b[38;5;66;03m# Concatenate Zarr arrays using zarr.concat (not .concatenate method)\u001b[39;00m\n\u001b[0;32m     17\u001b[0m experiment_arr \u001b[38;5;241m=\u001b[39m [\n\u001b[1;32m---> 18\u001b[0m     (\u001b[43mzarr\u001b[49m\u001b[38;5;241;43m.\u001b[39;49m\u001b[43mconcat\u001b[49m([zone_1_resampled, zone_3_resampled], axis\u001b[38;5;241m=\u001b[39m\u001b[38;5;241m0\u001b[39m), zone_2),\n\u001b[0;32m     19\u001b[0m     (zarr\u001b[38;5;241m.\u001b[39mconcat([zone_1_resampled, zone_2_resampled], axis\u001b[38;5;241m=\u001b[39m\u001b[38;5;241m0\u001b[39m), zone_3),\n\u001b[0;32m     20\u001b[0m     (zarr\u001b[38;5;241m.\u001b[39mconcat([zone_2_resampled, zone_3_resampled], axis\u001b[38;5;241m=\u001b[39m\u001b[38;5;241m0\u001b[39m), zone_1)\n\u001b[0;32m     21\u001b[0m ]\n\u001b[0;32m     23\u001b[0m \u001b[38;5;66;03m# Print the structure of the experiment array\u001b[39;00m\n\u001b[0;32m     24\u001b[0m \u001b[38;5;28;01mfor\u001b[39;00m i, (train_data, test_data) \u001b[38;5;129;01min\u001b[39;00m \u001b[38;5;28menumerate\u001b[39m(experiment_arr, \u001b[38;5;241m1\u001b[39m):\n\u001b[0;32m     25\u001b[0m     \u001b[38;5;66;03m# For large datasets, you might want to handle this without fully loading into memory.\u001b[39;00m\n\u001b[0;32m     26\u001b[0m     \u001b[38;5;66;03m# Instead, use it in batches or on-demand.\u001b[39;00m\n",
      "\u001b[1;31mAttributeError\u001b[0m: module 'zarr' has no attribute 'concat'"
     ]
    }
   ],
   "source": [
    "import zarr\n",
    "import numpy as np\n",
    "\n",
    "# Open the Zarr files\n",
    "zones_data = zarr.open(\"zones_data.zarr\", mode=\"r\")\n",
    "zones_data_2 = zarr.open(\"zones_data_2.zarr\", mode=\"r\")\n",
    "\n",
    "# Access Zarr arrays lazily\n",
    "zone_1 = zones_data['zone_1']\n",
    "zone_2 = zones_data['zone_2']\n",
    "zone_3 = zones_data['zone_3']\n",
    "\n",
    "zone_1_resampled = zones_data_2['zone_1']\n",
    "zone_2_resampled = zones_data_2['zone_2']\n",
    "zone_3_resampled = zones_data_2['zone_3']\n",
    "\n",
    "# Define a chunk size for processing (adjust based on memory limits)\n",
    "chunk_size = 1000  # Example: Process 1000 rows at a time\n",
    "\n",
    "# Function to process Zarr arrays in chunks\n",
    "def process_in_chunks(*zarr_arrays, chunk_size):\n",
    "    \"\"\"\n",
    "    Processes multiple Zarr arrays in chunks.\n",
    "    \"\"\"\n",
    "    total_rows = zarr_arrays[0].shape[0]\n",
    "    for start in range(0, total_rows, chunk_size):\n",
    "        end = min(start + chunk_size, total_rows)\n",
    "        yield [zarr_array.oindex[start:end] for zarr_array in zarr_arrays]\n",
    "\n",
    "# Experiment setup without full-memory concatenation\n",
    "experiment_arr = [\n",
    "    process_in_chunks(zone_1_resampled, zone_2, chunk_size=chunk_size),\n",
    "    process_in_chunks(zone_1_resampled, zone_3, chunk_size=chunk_size),\n",
    "    process_in_chunks(zone_2_resampled, zone_1, chunk_size=chunk_size)\n",
    "]\n",
    "\n",
    "# Example: Process in chunks\n",
    "for i, experiment in enumerate(experiment_arr, 1):\n",
    "    print(f\"Experiment {i}:\")\n",
    "\n",
    "    for train_chunk, test_chunk in experiment:\n",
    "        print(f\"  Training Chunk Shape: {train_chunk.shape}, Test Chunk Shape: {test_chunk.shape}\")\n"
   ]
  }
 ],
 "metadata": {
  "kernelspec": {
   "display_name": "Python 3",
   "language": "python",
   "name": "python3"
  },
  "language_info": {
   "codemirror_mode": {
    "name": "ipython",
    "version": 3
   },
   "file_extension": ".py",
   "mimetype": "text/x-python",
   "name": "python",
   "nbconvert_exporter": "python",
   "pygments_lexer": "ipython3",
   "version": "3.9.20"
  }
 },
 "nbformat": 4,
 "nbformat_minor": 2
}
