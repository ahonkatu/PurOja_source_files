{
 "cells": [
  {
   "cell_type": "markdown",
   "metadata": {},
   "source": [
    "### NPY's to TIF, attaching coordinates back to TIF-files\n",
    "Change npy files to tif files. The original SVF_{i}.tif files have the coordinates. Get them with gdal and attach to tif files. "
   ]
  },
  {
   "cell_type": "code",
   "execution_count": 1,
   "metadata": {},
   "outputs": [],
   "source": [
    "import os\n",
    "import numpy as np\n",
    "from osgeo import gdal, osr"
   ]
  },
  {
   "cell_type": "code",
   "execution_count": null,
   "metadata": {},
   "outputs": [
    {
     "name": "stdout",
     "output_type": "stream",
     "text": [
      "Processing E:/Gradu/PurOja/01_Data/01_Raw/features/enhanced\\SVF_1_enhanced.npy...\n"
     ]
    },
    {
     "name": "stderr",
     "output_type": "stream",
     "text": [
      "e:\\Gradu\\PurOja\\.conda\\lib\\site-packages\\osgeo\\gdal.py:311: FutureWarning: Neither gdal.UseExceptions() nor gdal.DontUseExceptions() has been explicitly called. In GDAL 4.0, exceptions will be enabled by default.\n",
      "  warnings.warn(\n"
     ]
    },
    {
     "name": "stdout",
     "output_type": "stream",
     "text": [
      "Successfully created georeferenced TIFF: E:/Gradu/Processed_TIF\\SVF_enhanced_1.tif\n",
      "Processing E:/Gradu/PurOja/01_Data/01_Raw/features/enhanced\\SVF_2_enhanced.npy...\n",
      "Successfully created georeferenced TIFF: E:/Gradu/Processed_TIF\\SVF_enhanced_2.tif\n",
      "Processing E:/Gradu/PurOja/01_Data/01_Raw/features/enhanced\\SVF_3_enhanced.npy...\n",
      "Successfully created georeferenced TIFF: E:/Gradu/Processed_TIF\\SVF_enhanced_3.tif\n",
      "Processing E:/Gradu/PurOja/01_Data/01_Raw/features/enhanced\\SVF_4_enhanced.npy...\n",
      "Successfully created georeferenced TIFF: E:/Gradu/Processed_TIF\\SVF_enhanced_4.tif\n",
      "Processing E:/Gradu/PurOja/01_Data/01_Raw/features/enhanced\\SVF_5_enhanced.npy...\n",
      "Successfully created georeferenced TIFF: E:/Gradu/Processed_TIF\\SVF_enhanced_5.tif\n",
      "Processing E:/Gradu/PurOja/01_Data/01_Raw/features/enhanced\\SVF_6_enhanced.npy...\n",
      "Successfully created georeferenced TIFF: E:/Gradu/Processed_TIF\\SVF_enhanced_6.tif\n",
      "Processing E:/Gradu/PurOja/01_Data/01_Raw/features/enhanced\\SVF_7_enhanced.npy...\n",
      "Successfully created georeferenced TIFF: E:/Gradu/Processed_TIF\\SVF_enhanced_7.tif\n",
      "Processing E:/Gradu/PurOja/01_Data/01_Raw/features/enhanced\\SVF_8_enhanced.npy...\n",
      "Successfully created georeferenced TIFF: E:/Gradu/Processed_TIF\\SVF_enhanced_8.tif\n",
      "Processing E:/Gradu/PurOja/01_Data/01_Raw/features/enhanced\\SVF_9_enhanced.npy...\n",
      "Successfully created georeferenced TIFF: E:/Gradu/Processed_TIF\\SVF_enhanced_9.tif\n",
      "Processing E:/Gradu/PurOja/01_Data/01_Raw/features/enhanced\\SVF_10_enhanced.npy...\n",
      "Successfully created georeferenced TIFF: E:/Gradu/Processed_TIF\\SVF_enhanced_10.tif\n",
      "Processing E:/Gradu/PurOja/01_Data/01_Raw/features/enhanced\\SVF_11_enhanced.npy...\n",
      "Successfully created georeferenced TIFF: E:/Gradu/Processed_TIF\\SVF_enhanced_11.tif\n",
      "Processing E:/Gradu/PurOja/01_Data/01_Raw/features/enhanced\\SVF_12_enhanced.npy...\n",
      "Successfully created georeferenced TIFF: E:/Gradu/Processed_TIF\\SVF_enhanced_12.tif\n",
      "Processing E:/Gradu/PurOja/01_Data/01_Raw/features/enhanced\\SVF_13_enhanced.npy...\n",
      "Successfully created georeferenced TIFF: E:/Gradu/Processed_TIF\\SVF_enhanced_13.tif\n",
      "Processing E:/Gradu/PurOja/01_Data/01_Raw/features/enhanced\\SVF_14_enhanced.npy...\n",
      "Successfully created georeferenced TIFF: E:/Gradu/Processed_TIF\\SVF_enhanced_14.tif\n",
      "Processing E:/Gradu/PurOja/01_Data/01_Raw/features/enhanced\\SVF_15_enhanced.npy...\n",
      "Successfully created georeferenced TIFF: E:/Gradu/Processed_TIF\\SVF_enhanced_15.tif\n",
      "Processing E:/Gradu/PurOja/01_Data/01_Raw/features/enhanced\\SVF_16_enhanced.npy...\n",
      "Successfully created georeferenced TIFF: E:/Gradu/Processed_TIF\\SVF_enhanced_16.tif\n",
      "Processing E:/Gradu/PurOja/01_Data/01_Raw/features/enhanced\\SVF_17_enhanced.npy...\n",
      "Successfully created georeferenced TIFF: E:/Gradu/Processed_TIF\\SVF_enhanced_17.tif\n",
      "Processing E:/Gradu/PurOja/01_Data/01_Raw/features/enhanced\\SVF_18_enhanced.npy...\n",
      "Successfully created georeferenced TIFF: E:/Gradu/Processed_TIF\\SVF_enhanced_18.tif\n",
      "Processing E:/Gradu/PurOja/01_Data/01_Raw/features/enhanced\\SVF_19_enhanced.npy...\n",
      "Successfully created georeferenced TIFF: E:/Gradu/Processed_TIF\\SVF_enhanced_19.tif\n",
      "Processing E:/Gradu/PurOja/01_Data/01_Raw/features/enhanced\\SVF_20_enhanced.npy...\n",
      "Successfully created georeferenced TIFF: E:/Gradu/Processed_TIF\\SVF_enhanced_20.tif\n",
      "Processing E:/Gradu/PurOja/01_Data/01_Raw/features/enhanced\\SVF_21_enhanced.npy...\n",
      "Successfully created georeferenced TIFF: E:/Gradu/Processed_TIF\\SVF_enhanced_21.tif\n",
      "Processing complete.\n"
     ]
    }
   ],
   "source": [
    "# Paths\n",
    "npy_folder = \"E:/Gradu/PurOja/01_Data/01_Raw/features/enhanced\"  # Folder containing .npy files\n",
    "output_folder = \"E:/Gradu/Processed_TIF\"  # Folder to save the output .tif files\n",
    "reference_folder = \"E:/Gradu/TO_NPY\"  # Folder containing reference .tif files (e.g., SVF_{i}.tif)\n",
    "\n",
    "# CRS (change EPSG code if needed)\n",
    "CRS_EPSG = 3067  # ETRS89 / TM35FIN\n",
    "\n",
    "# Ensure output folder exists\n",
    "os.makedirs(output_folder, exist_ok=True)\n",
    "\n",
    "# Process files 1 to 21 (or adjust the range as needed)\n",
    "for i in range(1, 22):\n",
    "    # Correct file names for npy, reference tif, and output tif\n",
    "    npy_file = os.path.join(npy_folder, f\"SVF_{i}_enhanced.npy\")  # Make sure the naming is correct\n",
    "    reference_tif = os.path.join(reference_folder, f\"SVF_{i}.tif\")\n",
    "    output_tif = os.path.join(output_folder, f\"SVF_enhanced_{i}.tif\")\n",
    "\n",
    "    # Check if files exist\n",
    "    if not os.path.exists(npy_file):\n",
    "        print(f\"File not found: {npy_file}\")\n",
    "        continue\n",
    "    if not os.path.exists(reference_tif):\n",
    "        print(f\"Reference file not found: {reference_tif}\")\n",
    "        continue\n",
    "\n",
    "    # Load .npy file\n",
    "    print(f\"Processing {npy_file}...\")\n",
    "    data = np.load(npy_file)\n",
    "    rows, cols = data.shape\n",
    "\n",
    "    # Open reference TIFF to get geotransform and CRS\n",
    "    ref_dataset = gdal.Open(reference_tif)\n",
    "    if ref_dataset is None:\n",
    "        print(f\"Failed to open reference TIFF: {reference_tif}\")\n",
    "        continue\n",
    "\n",
    "    geotransform = ref_dataset.GetGeoTransform()\n",
    "    projection = ref_dataset.GetProjection()\n",
    "    ref_dataset = None  # Close reference file\n",
    "\n",
    "    # Create a new .tif file\n",
    "    driver = gdal.GetDriverByName(\"GTiff\")\n",
    "    out_dataset = driver.Create(output_tif, cols, rows, 1, gdal.GDT_Float32)\n",
    "    if out_dataset is None:\n",
    "        print(f\"Failed to create output TIFF: {output_tif}\")\n",
    "        continue\n",
    "\n",
    "    # Write data and set geotransform & projection\n",
    "    out_dataset.GetRasterBand(1).WriteArray(data)\n",
    "    out_dataset.SetGeoTransform(geotransform)\n",
    "    out_dataset.SetProjection(projection)\n",
    "\n",
    "    # Save and close the dataset\n",
    "    out_dataset.FlushCache()\n",
    "    out_dataset = None\n",
    "\n",
    "    print(f\"Successfully created georeferenced TIFF: {output_tif}\")\n",
    "\n",
    "print(\"Processing complete.\")\n"
   ]
  }
 ],
 "metadata": {
  "kernelspec": {
   "display_name": "Python 3",
   "language": "python",
   "name": "python3"
  },
  "language_info": {
   "codemirror_mode": {
    "name": "ipython",
    "version": 3
   },
   "file_extension": ".py",
   "mimetype": "text/x-python",
   "name": "python",
   "nbconvert_exporter": "python",
   "pygments_lexer": "ipython3",
   "version": "3.9.20"
  }
 },
 "nbformat": 4,
 "nbformat_minor": 2
}
